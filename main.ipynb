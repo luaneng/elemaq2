{
 "cells": [
  {
   "cell_type": "markdown",
   "metadata": {},
   "source": [
    "# Elementos de Máquinas 2 – Projeto de mola"
   ]
  },
  {
   "cell_type": "markdown",
   "metadata": {},
   "source": [
    "• O mesmo deve ser entregue com todo o memorial de cálculos e justificativas de dados adotados durante a execução do mesmo.                    \n",
    "• Os dados tabelados devem ter indicação de qual tabela foram retirados.                                                                          \n",
    "• Os ganchos da mola também devem constar no projeto. "
   ]
  },
  {
   "cell_type": "markdown",
   "metadata": {},
   "source": [
    "Projete uma mola de tração helicoidal de vida infinita com extremidades de laço completo \n",
    "para uma carga mínima de 700 N e máxima de 1000 N, com um estiramento de 25 mm. A \n",
    "mola é para um equipamento de serviço de alimento e, portanto, deve ser feita de aço \n",
    "inoxidável. A frequência forçante é de 500 rpm. Considere um fator de projeto para fadiga \n",
    "de nf = 2"
   ]
  },
  {
   "cell_type": "code",
   "execution_count": 2,
   "metadata": {},
   "outputs": [],
   "source": [
    "fmin = 700  #N\n",
    "fmax = 1000 #N\n",
    "y = 25      #mm \n",
    "n = 500     #rpm\n",
    "nf = 2"
   ]
  },
  {
   "cell_type": "markdown",
   "metadata": {},
   "source": [
    "C: Índice da mola                                                  \n",
    "D: Diâmetro maior                                                  \n",
    "d: Diâmetro menor                                                  \n",
    "\n",
    "$ 4 \\leq C \\leq 12 $\n",
    "\n",
    "$$ C = \\frac{D}{d} $$"
   ]
  },
  {
   "cell_type": "code",
   "execution_count": 1,
   "metadata": {},
   "outputs": [],
   "source": [
    "def C(D, d):\n",
    "    return D/d"
   ]
  }
 ],
 "metadata": {
  "kernelspec": {
   "display_name": "Python 3.8.12 ('downgrade')",
   "language": "python",
   "name": "python3"
  },
  "language_info": {
   "codemirror_mode": {
    "name": "ipython",
    "version": 3
   },
   "file_extension": ".py",
   "mimetype": "text/x-python",
   "name": "python",
   "nbconvert_exporter": "python",
   "pygments_lexer": "ipython3",
   "version": "3.8.12"
  },
  "orig_nbformat": 4,
  "vscode": {
   "interpreter": {
    "hash": "ed3ebb04734f43b15442b522d77b67c46cdc9775d54bcf2473760b986ff7b5a6"
   }
  }
 },
 "nbformat": 4,
 "nbformat_minor": 2
}
