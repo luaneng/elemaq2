{
 "cells": [
  {
   "cell_type": "markdown",
   "metadata": {},
   "source": [
    "# Elementos de Máquinas 2 – Projeto de mola"
   ]
  },
  {
   "cell_type": "markdown",
   "metadata": {},
   "source": [
    "Criado por: Luan Henrique de Oliveira e Paola Fernanda Monteiro"
   ]
  },
  {
   "cell_type": "markdown",
   "metadata": {},
   "source": [
    "• O mesmo deve ser entregue com todo o memorial de cálculos e justificativas de dados adotados durante a execução do mesmo.                    \n",
    "• Os dados tabelados devem ter indicação de qual tabela foram retirados.                                                                          \n",
    "• Os ganchos da mola também devem constar no projeto. "
   ]
  },
  {
   "cell_type": "markdown",
   "metadata": {},
   "source": [
    "Projete uma mola de tração helicoidal de vida infinita com extremidades de laço completo \n",
    "para uma carga mínima de 700 N e máxima de 1000 N, com um estiramento de 25 mm. A \n",
    "mola é para um equipamento de serviço de alimento e, portanto, deve ser feita de aço \n",
    "inoxidável. A frequência forçante é de 500 rpm. Considere um fator de projeto para fadiga \n",
    "de nf = 2"
   ]
  },
  {
   "cell_type": "code",
   "execution_count": 4,
   "metadata": {},
   "outputs": [],
   "source": [
    "fmin = 700  #N\n",
    "fmax = 1000 #N\n",
    "y = 25      #mm \n",
    "n = 500     #rpm\n",
    "nf = 2"
   ]
  },
  {
   "cell_type": "markdown",
   "metadata": {},
   "source": [
    "C: Índice da mola                                                  \n",
    "D: Diâmetro maior                                                  \n",
    "d: Diâmetro menor                                                  \n",
    "\n",
    "$ 4 \\leq C \\leq 12 $\n",
    "\n",
    "$$ C = \\frac{D}{d} $$"
   ]
  },
  {
   "cell_type": "markdown",
   "metadata": {},
   "source": [
    "Supondo os valores iniciais de $C=9$ e $d=9$"
   ]
  },
  {
   "cell_type": "code",
   "execution_count": 5,
   "metadata": {},
   "outputs": [],
   "source": [
    "C, d = 9, 9"
   ]
  },
  {
   "cell_type": "code",
   "execution_count": 6,
   "metadata": {},
   "outputs": [
    {
     "data": {
      "text/plain": [
       "81"
      ]
     },
     "execution_count": 6,
     "metadata": {},
     "output_type": "execute_result"
    }
   ],
   "source": [
    "def D(C, d):\n",
    "    return C*d\n",
    "\n",
    "D(C, d)"
   ]
  },
  {
   "cell_type": "markdown",
   "metadata": {},
   "source": [
    "$$ D = Cd = 81 $$"
   ]
  },
  {
   "cell_type": "markdown",
   "metadata": {},
   "source": [
    "Valor apropriado da tensão inicial de espira $ \\tau_{i} $\n",
    "$$ \\tau_{i,1} = -4,231C^3 + 181,5C^2 - 3387C + 28640$$"
   ]
  },
  {
   "cell_type": "code",
   "execution_count": 7,
   "metadata": {},
   "outputs": [
    {
     "data": {
      "text/plain": [
       "(9774.101, 67.408)"
      ]
     },
     "execution_count": 7,
     "metadata": {},
     "output_type": "execute_result"
    }
   ],
   "source": [
    "def ti1(C):\n",
    "    return round(-4.231*(C**3) + 181.5*(C**2) - 3387*C + 28640, 3)\n",
    "\n",
    "ti1(C), round(ti1(C)/145, 3) "
   ]
  },
  {
   "cell_type": "markdown",
   "metadata": {},
   "source": [
    "$$ \\tau_{i,1} = 9774,101 psi \\approx 67,407 MPa $$"
   ]
  },
  {
   "cell_type": "markdown",
   "metadata": {},
   "source": [
    "$$ \\tau_{i,2} = -2,987C^3 + 139,7C^2 - 3427C + 38404 $$"
   ]
  },
  {
   "cell_type": "code",
   "execution_count": 8,
   "metadata": {},
   "outputs": [
    {
     "data": {
      "text/plain": [
       "(16699.177, 115.167)"
      ]
     },
     "execution_count": 8,
     "metadata": {},
     "output_type": "execute_result"
    }
   ],
   "source": [
    "def ti2(C):\n",
    "    return round(-2.987*(C**3) + 139.7*(C**2) - 3427*C + 38404, 3)\n",
    "\n",
    "ti2(C), round(ti2(C)/145, 3)"
   ]
  },
  {
   "cell_type": "markdown",
   "metadata": {},
   "source": [
    "$$ \\tau_{i, 2} = 16699,177 psi \\approx 115,167 MPa $$"
   ]
  },
  {
   "cell_type": "markdown",
   "metadata": {},
   "source": [
    "$$ \\tau_{i} = \\frac{\\tau_{i, 1} + \\tau_{i, 1}}{2} $$"
   ]
  },
  {
   "cell_type": "code",
   "execution_count": 9,
   "metadata": {},
   "outputs": [
    {
     "data": {
      "text/plain": [
       "(26473.278, 182.574)"
      ]
     },
     "execution_count": 9,
     "metadata": {},
     "output_type": "execute_result"
    }
   ],
   "source": [
    "def ti(C):\n",
    "    return ti1(C) + ti2(C)\n",
    "\n",
    "ti_N = round(ti(C)/145, 3)   #Tensão em Newton\n",
    "\n",
    "ti(C), ti_N"
   ]
  },
  {
   "cell_type": "markdown",
   "metadata": {},
   "source": [
    "$$ \\tau_{i} = 26473,278 psi \\approx 182,574 MPa $$"
   ]
  },
  {
   "cell_type": "markdown",
   "metadata": {},
   "source": [
    "$ K_{s} $: Fator de cisalhamento direto\n",
    "$$ K_{s} = 1 + \\frac{0,5}{C} $$"
   ]
  },
  {
   "cell_type": "code",
   "execution_count": 10,
   "metadata": {},
   "outputs": [
    {
     "data": {
      "text/plain": [
       "1.056"
      ]
     },
     "execution_count": 10,
     "metadata": {},
     "output_type": "execute_result"
    }
   ],
   "source": [
    "def ks(C):\n",
    "    return round(1 + 0.5/C, 3)\n",
    "\n",
    "ks(C)"
   ]
  },
  {
   "cell_type": "markdown",
   "metadata": {},
   "source": [
    "$$ K_{s} = 1,056 $$"
   ]
  },
  {
   "cell_type": "markdown",
   "metadata": {},
   "source": [
    "$ F_{i} $: Força de tração inicial\n",
    "$$ F_{i} = \\frac{\\pi d^3 \\tau_{i}}{8K_{s}D} $$"
   ]
  },
  {
   "cell_type": "code",
   "execution_count": 11,
   "metadata": {},
   "outputs": [],
   "source": [
    "from numpy import pi"
   ]
  },
  {
   "cell_type": "code",
   "execution_count": 12,
   "metadata": {},
   "outputs": [
    {
     "data": {
      "text/plain": [
       "611.051"
      ]
     },
     "execution_count": 12,
     "metadata": {},
     "output_type": "execute_result"
    }
   ],
   "source": [
    "def fi(C, d):\n",
    "    return round(pi*ti_N*(d**3)/(8*ks(C)*D(C, d)), 3)\n",
    "\n",
    "fi(C, d)"
   ]
  },
  {
   "cell_type": "markdown",
   "metadata": {},
   "source": [
    "$ F_{i} = 611,051 N < F_{min}$. Não defletirá a mola."
   ]
  },
  {
   "cell_type": "markdown",
   "metadata": {},
   "source": [
    "$ F_{a} $: Força alternada\n",
    "$$ F_{a} = \\frac{F_{max} - F_{min}}{2} $$"
   ]
  },
  {
   "cell_type": "code",
   "execution_count": 13,
   "metadata": {},
   "outputs": [
    {
     "data": {
      "text/plain": [
       "150.0"
      ]
     },
     "execution_count": 13,
     "metadata": {},
     "output_type": "execute_result"
    }
   ],
   "source": [
    "def fa():\n",
    "    return (fmax - fmin)/2\n",
    "\n",
    "fa()"
   ]
  },
  {
   "cell_type": "markdown",
   "metadata": {},
   "source": [
    "$$ F_{a} = 150 N $$"
   ]
  },
  {
   "cell_type": "markdown",
   "metadata": {},
   "source": [
    "$ F_{m} $: Força média\n",
    "$$ F_{m} = \\frac{F_{max} + F_{min}}{2} $$"
   ]
  },
  {
   "cell_type": "code",
   "execution_count": 14,
   "metadata": {},
   "outputs": [
    {
     "data": {
      "text/plain": [
       "850.0"
      ]
     },
     "execution_count": 14,
     "metadata": {},
     "output_type": "execute_result"
    }
   ],
   "source": [
    "def fm():\n",
    "    return (fmax + fmin)/2\n",
    "\n",
    "fm()"
   ]
  },
  {
   "cell_type": "markdown",
   "metadata": {},
   "source": [
    "$$ F_{m} = 850 N $$"
   ]
  },
  {
   "cell_type": "markdown",
   "metadata": {},
   "source": [
    "$ \\tau_{m} $: Tensão média\n",
    "$$ \\tau_{m} = K_{s} \\frac{8F_{m}D}{\\pi d^3} $$"
   ]
  },
  {
   "cell_type": "code",
   "execution_count": 15,
   "metadata": {},
   "outputs": [
    {
     "data": {
      "text/plain": [
       "253.969"
      ]
     },
     "execution_count": 15,
     "metadata": {},
     "output_type": "execute_result"
    }
   ],
   "source": [
    "def tm(C, d):\n",
    "    return round(ks(C)*8*fm()*D(C, d)/(pi*d**3), 3)\n",
    "\n",
    "tm(C, d)"
   ]
  },
  {
   "cell_type": "markdown",
   "metadata": {},
   "source": [
    "$$ \\tau_{m} = 253,969 MPa $$\n"
   ]
  },
  {
   "cell_type": "markdown",
   "metadata": {},
   "source": [
    "$ K_{w} $: Fator de Wahl\n",
    "$$ K_{w} = \\frac{4C - 1}{4C - 4} + \\frac{0.615}{C} $$"
   ]
  },
  {
   "cell_type": "markdown",
   "metadata": {},
   "source": [
    "$ \\tau_{a} $: Tensão de cisalhamento alternada\n",
    "$$ \\tau_{a} = K_{w} \\frac{8F_{a}D}{\\pi d^3} $$"
   ]
  },
  {
   "cell_type": "code",
   "execution_count": 16,
   "metadata": {},
   "outputs": [
    {
     "data": {
      "text/plain": [
       "49.32"
      ]
     },
     "execution_count": 16,
     "metadata": {},
     "output_type": "execute_result"
    }
   ],
   "source": [
    "def kw(C):\n",
    "    return ( (4*C - 1)/(4*C - 4) ) + (0.615)/C\n",
    "\n",
    "def ta(C):\n",
    "    return round(kw(C)*8*fa()*D(C, d)/(pi*d**3), 3)\n",
    "\n",
    "ta(C)"
   ]
  },
  {
   "cell_type": "markdown",
   "metadata": {},
   "source": [
    "$$ \\tau_{a} = 49,32 MPa $$"
   ]
  },
  {
   "cell_type": "markdown",
   "metadata": {},
   "source": [
    "$ S_{ut} $: Limite de resistência a tração\n",
    "$$ S_{ut} = A/d^m $$\n",
    "$ S_{us} $: Limite de resistência a cisalhamento\n",
    "$$ S_{us} = 0,667S_{ut} $$\n",
    "$ S_{ys} $: Limite de resistência a torção\n",
    "$$ S_{ys} = 0,45S_{ut} $$"
   ]
  },
  {
   "cell_type": "markdown",
   "metadata": {},
   "source": [
    "![Constantes](ctes_material.png \"Constantes\")                                                                                       \n",
    "Fonte: Design Handbook, 1987, p.19."
   ]
  },
  {
   "cell_type": "code",
   "execution_count": 17,
   "metadata": {},
   "outputs": [
    {
     "data": {
      "text/plain": [
       "1354.643"
      ]
     },
     "execution_count": 17,
     "metadata": {},
     "output_type": "execute_result"
    }
   ],
   "source": [
    "def sut(A, m):\n",
    "    return round(A/(d**m), 3)\n",
    "\n",
    "A = 1867 #MPa*mm^m\n",
    "m = 0.146\n",
    "\n",
    "sut(A, m)"
   ]
  },
  {
   "cell_type": "markdown",
   "metadata": {},
   "source": [
    "$$ S_{ut} = 1354,643 MPa $$"
   ]
  },
  {
   "cell_type": "code",
   "execution_count": 18,
   "metadata": {},
   "outputs": [
    {
     "data": {
      "text/plain": [
       "903.547"
      ]
     },
     "execution_count": 18,
     "metadata": {},
     "output_type": "execute_result"
    }
   ],
   "source": [
    "def sus(A, m):\n",
    "    return round(0.667*sut(A, m), 3)\n",
    "\n",
    "sus(A, m)"
   ]
  },
  {
   "cell_type": "markdown",
   "metadata": {},
   "source": [
    "$$ S_{us} = 903,547 MPa $$"
   ]
  },
  {
   "cell_type": "code",
   "execution_count": 19,
   "metadata": {},
   "outputs": [
    {
     "data": {
      "text/plain": [
       "609.589"
      ]
     },
     "execution_count": 19,
     "metadata": {},
     "output_type": "execute_result"
    }
   ],
   "source": [
    "def sys(A, m):\n",
    "    return round(0.45*sut(A, m), 3)\n",
    "\n",
    "sys(A, m)"
   ]
  },
  {
   "cell_type": "markdown",
   "metadata": {},
   "source": [
    "$$ S_{ys} = 609,589 MPa$$"
   ]
  },
  {
   "cell_type": "markdown",
   "metadata": {},
   "source": [
    "$ S_{es} $: limite de resistência à fadiga em condições alternadas\n",
    "$$ S_{es} = 0,5 \\frac{S_{ew}S_{us}}{S_{us} - 0,5S_{ew}} $$"
   ]
  },
  {
   "cell_type": "code",
   "execution_count": 20,
   "metadata": {},
   "outputs": [
    {
     "data": {
      "text/plain": [
       "187.285"
      ]
     },
     "execution_count": 20,
     "metadata": {},
     "output_type": "execute_result"
    }
   ],
   "source": [
    "sew = 310.26 #MPa\n",
    "\n",
    "def ses(A, m):\n",
    "    return round(0.5*(sew*sus(A, m))/(sus(A, m) - 0.5*sew), 3)\n",
    "\n",
    "ses(A, m)"
   ]
  },
  {
   "cell_type": "markdown",
   "metadata": {},
   "source": [
    "$$ S_{es} = 187,285 MPa$$"
   ]
  },
  {
   "cell_type": "markdown",
   "metadata": {},
   "source": [
    "$N_{fs}$: Coeficiente de segurança para espiras em torção\n",
    "$$ N_{fs} = \\frac{S_{es}(S_{us} - \\tau_{min})}{S_{es}(\\tau_{m} - \\tau_{min}) + S_{us}\\tau_{a}} $$"
   ]
  },
  {
   "cell_type": "markdown",
   "metadata": {},
   "source": [
    "$ \\tau_{min} $: Tensão de cisalhamento mínima \n",
    "$$ \\tau_{min} = K_{B} \\frac{8F_{min}D}{\\pi d^3} $$"
   ]
  },
  {
   "cell_type": "code",
   "execution_count": 21,
   "metadata": {},
   "outputs": [],
   "source": [
    "def tmin(fmin, C):\n",
    "    kb = (4*C + 2)/(4*C - 3)\n",
    "    return kb*8*fmin*D(C, d)/(pi*d**3)"
   ]
  },
  {
   "cell_type": "code",
   "execution_count": 22,
   "metadata": {},
   "outputs": [
    {
     "data": {
      "text/plain": [
       "2.56"
      ]
     },
     "execution_count": 22,
     "metadata": {},
     "output_type": "execute_result"
    }
   ],
   "source": [
    "def nfs(A, m, C, d, fmin):\n",
    "    return round(ses(A, m)*(sus(A, m) - tmin(fmin, C))/(ses(A, m)*(tm(C, d) - tmin(fmin, C)) + sus(A, m)*ta(C)), 3)\n",
    "\n",
    "nfs(A, m, C, d, fmin)"
   ]
  },
  {
   "cell_type": "markdown",
   "metadata": {},
   "source": [
    "$$ N_{fs} = 2,56 $$"
   ]
  },
  {
   "cell_type": "markdown",
   "metadata": {},
   "source": [
    "$$ C_{1} = \\frac{2R_{1}}{d} = \\frac{2D}{2d} = C $$"
   ]
  },
  {
   "cell_type": "code",
   "execution_count": 23,
   "metadata": {},
   "outputs": [],
   "source": [
    "def C1():\n",
    "    return C"
   ]
  },
  {
   "cell_type": "markdown",
   "metadata": {},
   "source": [
    "$$ K_{b} = \\frac{4C_1^2 - C_1 - 1}{4C_1(C_1 - 1)} $$ "
   ]
  },
  {
   "cell_type": "code",
   "execution_count": 24,
   "metadata": {},
   "outputs": [
    {
     "data": {
      "text/plain": [
       "0.986"
      ]
     },
     "execution_count": 24,
     "metadata": {},
     "output_type": "execute_result"
    }
   ],
   "source": [
    "def kb():\n",
    "    return round(4*((C1()**2) - C1() - 1)/(4*C1()*(C1() - 1)), 3)\n",
    "\n",
    "kb()"
   ]
  },
  {
   "cell_type": "markdown",
   "metadata": {},
   "source": [
    "$$ K_{b} = 0,986 $$"
   ]
  },
  {
   "cell_type": "markdown",
   "metadata": {},
   "source": [
    "$$ \\sigma_{a} = k_{b} \\frac{16D F_a}{\\pi d^3} + \\frac{4F_{a}}{\\pi d^2} $$"
   ]
  },
  {
   "cell_type": "code",
   "execution_count": 25,
   "metadata": {},
   "outputs": [
    {
     "data": {
      "text/plain": [
       "86.052"
      ]
     },
     "execution_count": 25,
     "metadata": {},
     "output_type": "execute_result"
    }
   ],
   "source": [
    "def sa():\n",
    "    return round(kb()*( (16*D(C, d)*fa())/(pi*d**3) ) + 4*fa()/(pi*d**2), 3)\n",
    "\n",
    "sa()"
   ]
  },
  {
   "cell_type": "markdown",
   "metadata": {},
   "source": [
    "$$ \\sigma_{a} = 86,052 MPa $$"
   ]
  },
  {
   "cell_type": "markdown",
   "metadata": {},
   "source": [
    "$$ \\sigma_{m} = k_{b} \\frac{16D F_{m}}{\\pi d^3} + \\frac{4F_{m}}{\\pi d^2} $$"
   ]
  },
  {
   "cell_type": "code",
   "execution_count": 26,
   "metadata": {},
   "outputs": [
    {
     "data": {
      "text/plain": [
       "487.629"
      ]
     },
     "execution_count": 26,
     "metadata": {},
     "output_type": "execute_result"
    }
   ],
   "source": [
    "def sm():\n",
    "    return round(kb()*( (16*D(C, d)*fm())/(pi*d**3) ) + 4*fm()/(pi*d**2), 3)\n",
    "\n",
    "sm()"
   ]
  },
  {
   "cell_type": "markdown",
   "metadata": {},
   "source": [
    "$$ \\sigma_{m} = 487,629 MPa $$"
   ]
  },
  {
   "cell_type": "markdown",
   "metadata": {},
   "source": [
    "$$ \\sigma_{min} = k_{b} \\frac{16D F_{min}}{\\pi d^3} + \\frac{4F_{min}}{\\pi d^2} $$"
   ]
  },
  {
   "cell_type": "code",
   "execution_count": 27,
   "metadata": {},
   "outputs": [
    {
     "data": {
      "text/plain": [
       "401.577"
      ]
     },
     "execution_count": 27,
     "metadata": {},
     "output_type": "execute_result"
    }
   ],
   "source": [
    "def smin():\n",
    "    return round(kb()*( (16*D(C, d)*fmin)/(pi*d**3) ) + 4*fmin/(pi*d**2), 3)\n",
    "\n",
    "smin()"
   ]
  },
  {
   "cell_type": "markdown",
   "metadata": {},
   "source": [
    "$$ \\sigma_{min} = 401,577 MPa $$"
   ]
  },
  {
   "cell_type": "markdown",
   "metadata": {},
   "source": [
    "$S_{e}$: Resistência a endurança total\n",
    "$$ S_{e} = \\frac{S_{es}}{0,67} $$"
   ]
  },
  {
   "cell_type": "code",
   "execution_count": 28,
   "metadata": {},
   "outputs": [
    {
     "data": {
      "text/plain": [
       "279.53"
      ]
     },
     "execution_count": 28,
     "metadata": {},
     "output_type": "execute_result"
    }
   ],
   "source": [
    "def se(A, m):\n",
    "    return round(ses(A, m)/0.67, 3)\n",
    "\n",
    "se(A, m)"
   ]
  },
  {
   "cell_type": "markdown",
   "metadata": {},
   "source": [
    "$$ S_{e} = 279,51 MPa $$"
   ]
  },
  {
   "cell_type": "markdown",
   "metadata": {},
   "source": [
    "$$ N_{fb} = \\frac{S_{e}(S_{ut} - \\sigma_{min})}{S_{e}(\\sigma_{m} - \\sigma_{min}) + S_{ut}\\sigma_{a}} $$"
   ]
  },
  {
   "cell_type": "code",
   "execution_count": 29,
   "metadata": {},
   "outputs": [
    {
     "data": {
      "text/plain": [
       "1.894"
      ]
     },
     "execution_count": 29,
     "metadata": {},
     "output_type": "execute_result"
    }
   ],
   "source": [
    "def nfb():\n",
    "    return round(se(A, m)*(sut(A, m) - smin())/(se(A, m)*(sm() - smin()) + sut(A, m)*sa()), 3)\n",
    "\n",
    "nfb()"
   ]
  },
  {
   "cell_type": "markdown",
   "metadata": {},
   "source": [
    "$$ N_{fb} = 1,894 $$"
   ]
  },
  {
   "cell_type": "markdown",
   "metadata": {},
   "source": [
    "$$ R_{2} = \\frac{C_{2}d}{2} $$\n",
    "Supondo inicialmente um valor de $C_{2} = 2$, temos:"
   ]
  },
  {
   "cell_type": "code",
   "execution_count": 30,
   "metadata": {},
   "outputs": [],
   "source": [
    "C2 = 5"
   ]
  },
  {
   "cell_type": "code",
   "execution_count": 31,
   "metadata": {},
   "outputs": [
    {
     "data": {
      "text/plain": [
       "22.5"
      ]
     },
     "execution_count": 31,
     "metadata": {},
     "output_type": "execute_result"
    }
   ],
   "source": [
    "def r2():\n",
    "    return round(C2*d/2, 3)\n",
    "\n",
    "r2()"
   ]
  },
  {
   "cell_type": "markdown",
   "metadata": {},
   "source": [
    "$$ R_{2} = 22.5 $$"
   ]
  },
  {
   "cell_type": "markdown",
   "metadata": {},
   "source": [
    "$$ K_{w,2} = \\frac{4C_{2} - 1}{4C_{2} - 4} $$"
   ]
  },
  {
   "cell_type": "code",
   "execution_count": 32,
   "metadata": {},
   "outputs": [
    {
     "data": {
      "text/plain": [
       "1.188"
      ]
     },
     "execution_count": 32,
     "metadata": {},
     "output_type": "execute_result"
    }
   ],
   "source": [
    "def kw2():\n",
    "    return round((4*C2 - 1)/(4*C2 - 4), 3)\n",
    "\n",
    "kw2()"
   ]
  },
  {
   "cell_type": "markdown",
   "metadata": {},
   "source": [
    "$$ K_{w,2} = 1,188 $$"
   ]
  },
  {
   "cell_type": "markdown",
   "metadata": {},
   "source": [
    "$\\tau_{B}$: Tensão de torção no gancho"
   ]
  },
  {
   "cell_type": "markdown",
   "metadata": {},
   "source": [
    "$$ \\tau_{B_a} = K_{w,2} \\frac{8D F_{a}}{\\pi d^3} $$"
   ]
  },
  {
   "cell_type": "code",
   "execution_count": 33,
   "metadata": {},
   "outputs": [
    {
     "data": {
      "text/plain": [
       "50.42"
      ]
     },
     "execution_count": 33,
     "metadata": {},
     "output_type": "execute_result"
    }
   ],
   "source": [
    "def tba():\n",
    "    return round(kw2()*8*D(C, d)*fa()/(pi*(d**3)), 3)\n",
    "\n",
    "tba()"
   ]
  },
  {
   "cell_type": "markdown",
   "metadata": {},
   "source": [
    "$$ \\tau_{B_a} = 50,42MPa $$"
   ]
  },
  {
   "cell_type": "markdown",
   "metadata": {},
   "source": [
    "$$ \\tau_{B_m} = K_{w,2} \\frac{8D F_{m}}{\\pi d^3} $$"
   ]
  },
  {
   "cell_type": "code",
   "execution_count": 34,
   "metadata": {},
   "outputs": [
    {
     "data": {
      "text/plain": [
       "285.715"
      ]
     },
     "execution_count": 34,
     "metadata": {},
     "output_type": "execute_result"
    }
   ],
   "source": [
    "def tbm():\n",
    "    return round(kw2()*8*D(C, d)*fm()/(pi*(d**3)), 3)\n",
    "\n",
    "tbm()"
   ]
  },
  {
   "cell_type": "markdown",
   "metadata": {},
   "source": [
    "$$ \\tau_{B_m} = 285,715 MPa$$"
   ]
  },
  {
   "cell_type": "markdown",
   "metadata": {},
   "source": [
    "$$ \\tau_{B_{min}} = K_{w,2} \\frac{8D F_{min}}{\\pi d^3} $$"
   ]
  },
  {
   "cell_type": "code",
   "execution_count": 35,
   "metadata": {},
   "outputs": [
    {
     "data": {
      "text/plain": [
       "235.295"
      ]
     },
     "execution_count": 35,
     "metadata": {},
     "output_type": "execute_result"
    }
   ],
   "source": [
    "def tbmin():\n",
    "    return round(kw2()*8*D(C, d)*fmin/(pi*(d**3)), 3)\n",
    "\n",
    "tbmin()"
   ]
  },
  {
   "cell_type": "markdown",
   "metadata": {},
   "source": [
    "$$ \\tau_{B_{min}} = 235,295 MPa$$"
   ]
  },
  {
   "cell_type": "markdown",
   "metadata": {},
   "source": [
    "$N_{fs}$: coeficiente de segurança à fadiga\n",
    "$$ N_{fs} = \\frac{S_{es}(S_{us} - \\tau_{min})}{S_{es}(\\tau_{m} - \\tau_{min}) + S_{us} \\tau_{a}} $$"
   ]
  },
  {
   "cell_type": "code",
   "execution_count": 36,
   "metadata": {},
   "outputs": [
    {
     "data": {
      "text/plain": [
       "49.32"
      ]
     },
     "execution_count": 36,
     "metadata": {},
     "output_type": "execute_result"
    }
   ],
   "source": [
    "ta(C)"
   ]
  },
  {
   "cell_type": "code",
   "execution_count": 37,
   "metadata": {},
   "outputs": [
    {
     "data": {
      "text/plain": [
       "2.56"
      ]
     },
     "execution_count": 37,
     "metadata": {},
     "output_type": "execute_result"
    }
   ],
   "source": [
    "def nfsb():\n",
    "    return round(ses(A, m)*(sus(A, m) - tmin(fmin, C))/( ses(A, m)*(tm(C, d) - tmin(fmin, C)) + sus(A, m)*ta(C) ), 3)\n",
    "\n",
    "\n",
    "nfsb()"
   ]
  },
  {
   "cell_type": "markdown",
   "metadata": {},
   "source": [
    "$$ N_{fs_{B}} = 2,56 $$"
   ]
  },
  {
   "cell_type": "markdown",
   "metadata": {},
   "source": [
    "$k$: constante da mola\n",
    "$$ k = \\frac{\\Delta F}{y} $$"
   ]
  },
  {
   "cell_type": "code",
   "execution_count": 38,
   "metadata": {},
   "outputs": [
    {
     "data": {
      "text/plain": [
       "12.0"
      ]
     },
     "execution_count": 38,
     "metadata": {},
     "output_type": "execute_result"
    }
   ],
   "source": [
    "def k():\n",
    "    return (fmax - fmin)/y\n",
    "\n",
    "k()"
   ]
  },
  {
   "cell_type": "markdown",
   "metadata": {},
   "source": [
    "$$ k = 12 N/mm$$"
   ]
  },
  {
   "cell_type": "markdown",
   "metadata": {},
   "source": [
    "$N_{a}$: número de espiras ativas                                                                                                                      \n",
    "$G$: Módulo de elasticidade transversal\n",
    "$$ N_{a} = \\frac{d^4 G}{8 D^3 k} $$"
   ]
  },
  {
   "cell_type": "code",
   "execution_count": 39,
   "metadata": {},
   "outputs": [
    {
     "data": {
      "text/plain": [
       "10.0"
      ]
     },
     "execution_count": 39,
     "metadata": {},
     "output_type": "execute_result"
    }
   ],
   "source": [
    "E = 193*10**3   #MPa\n",
    "v = 0.265       #coef de poisson\n",
    "G = E/(2*(1+v))\n",
    "\n",
    "def na():\n",
    "    return round((d**4)*G/(8*k()*(D(C, d)**3)), 0)\n",
    "\n",
    "na()"
   ]
  },
  {
   "cell_type": "markdown",
   "metadata": {},
   "source": [
    "$$ N_{a} \\approx 10 espiras $$"
   ]
  },
  {
   "cell_type": "markdown",
   "metadata": {},
   "source": [
    "$N_{t}$: Número total de espiras no corpo\n",
    "$$ N_{t} = N_{a} + 1 $$"
   ]
  },
  {
   "cell_type": "code",
   "execution_count": 40,
   "metadata": {},
   "outputs": [
    {
     "data": {
      "text/plain": [
       "11.0"
      ]
     },
     "execution_count": 40,
     "metadata": {},
     "output_type": "execute_result"
    }
   ],
   "source": [
    "def nt():\n",
    "    return na() + 1\n",
    "\n",
    "nt()"
   ]
  },
  {
   "cell_type": "markdown",
   "metadata": {},
   "source": [
    "$$ N_{t} = 11 espiras$$"
   ]
  },
  {
   "cell_type": "markdown",
   "metadata": {},
   "source": [
    "$L_{b}$: Comprimento do corpo\n",
    "$$ L_{B} = N_{t}d $$"
   ]
  },
  {
   "cell_type": "code",
   "execution_count": 41,
   "metadata": {},
   "outputs": [
    {
     "data": {
      "text/plain": [
       "99.0"
      ]
     },
     "execution_count": 41,
     "metadata": {},
     "output_type": "execute_result"
    }
   ],
   "source": [
    "def lb():\n",
    "    return nt()*d\n",
    "\n",
    "lb()"
   ]
  },
  {
   "cell_type": "markdown",
   "metadata": {},
   "source": [
    "$$ L_{b} = 99mm $$"
   ]
  },
  {
   "cell_type": "markdown",
   "metadata": {},
   "source": [
    "$L_{f}$: Comprimento livre\n",
    "$$ L_{f} = L_{b} + 2L_{gancho} $$"
   ]
  },
  {
   "cell_type": "code",
   "execution_count": 42,
   "metadata": {},
   "outputs": [
    {
     "data": {
      "text/plain": [
       "243.0"
      ]
     },
     "execution_count": 42,
     "metadata": {},
     "output_type": "execute_result"
    }
   ],
   "source": [
    "def lf():\n",
    "    di = D(C, d) - d\n",
    "    return lb() + 2*di\n",
    "\n",
    "lf()"
   ]
  },
  {
   "cell_type": "markdown",
   "metadata": {},
   "source": [
    "$$ L_{f} = 243 mm $$"
   ]
  },
  {
   "cell_type": "markdown",
   "metadata": {},
   "source": [
    "$y_{max}$: Deflexão máxima\n",
    "$$ y_{max} = \\frac{F_{max} - F_{min}}{k} $$"
   ]
  },
  {
   "cell_type": "code",
   "execution_count": 43,
   "metadata": {},
   "outputs": [
    {
     "data": {
      "text/plain": [
       "25.0"
      ]
     },
     "execution_count": 43,
     "metadata": {},
     "output_type": "execute_result"
    }
   ],
   "source": [
    "def ymax():\n",
    "    return (fmax - fmin)/k()\n",
    "\n",
    "ymax()"
   ]
  },
  {
   "cell_type": "markdown",
   "metadata": {},
   "source": [
    "$$ y_{max} = 25mm $$"
   ]
  },
  {
   "cell_type": "markdown",
   "metadata": {},
   "source": [
    "$f_{n}$: Frequência natural\n",
    "$$ f_{n} = \\frac{2}{\\pi N_{a}} \\frac{d}{D^2} \\sqrt{ \\frac{Gg}{32 \\gamma} } $$"
   ]
  },
  {
   "cell_type": "markdown",
   "metadata": {},
   "source": [
    "!['Densidade'](densidade.png \"Densidade inox\")     "
   ]
  },
  {
   "cell_type": "code",
   "execution_count": 44,
   "metadata": {},
   "outputs": [
    {
     "data": {
      "text/plain": [
       "(4198.89, 251933.4)"
      ]
     },
     "execution_count": 44,
     "metadata": {},
     "output_type": "execute_result"
    }
   ],
   "source": [
    "def fn():\n",
    "    g = 9.81 #m/s^2\n",
    "    gamma = 0.28/27680 #convertendo para kg/m^3\n",
    "    return round(( (2*(d/1000))/(pi*na()*((D(C, d)/1000)**2)) )*( (G*g/(32*gamma))**(0.5) ), 3)\n",
    "\n",
    "fn_rpm = round(fn()*60, 3)\n",
    "\n",
    "fn(), fn_rpm "
   ]
  },
  {
   "cell_type": "markdown",
   "metadata": {},
   "source": [
    "$$ f_{n} = 4198,89 Hz \\approx 251933,4 rpm $$"
   ]
  },
  {
   "cell_type": "code",
   "execution_count": 45,
   "metadata": {},
   "outputs": [
    {
     "data": {
      "text/plain": [
       "503.87"
      ]
     },
     "execution_count": 45,
     "metadata": {},
     "output_type": "execute_result"
    }
   ],
   "source": [
    "def r_rpm():\n",
    "    return round(fn_rpm/n, 2)\n",
    "\n",
    "r_rpm()\n"
   ]
  },
  {
   "cell_type": "markdown",
   "metadata": {},
   "source": [
    "$$ f_{n}/n = \\frac{251933,4}{500} \\approx 503,87 $$"
   ]
  },
  {
   "cell_type": "code",
   "execution_count": 46,
   "metadata": {},
   "outputs": [],
   "source": [
    "import pandas as pd"
   ]
  },
  {
   "cell_type": "code",
   "execution_count": 66,
   "metadata": {},
   "outputs": [],
   "source": [
    "data = {\n",
    "    'C': [C],\n",
    "    'd [mm]': d,\n",
    "    'D [mm]': D(C, d),\n",
    "    '𝜏i [MPa]': ti(C),\n",
    "    'Ks': ks(C),\n",
    "    'Fi [N]': fi(C, d),\n",
    "    'Fa [N]': fa(),\n",
    "    'Fm [N]': fm(),\n",
    "    'Tm [N]': tm(C, d),\n",
    "    '𝜏a [MPa]': ta(C),\n",
    "    'Sut [MPa]': sut(A, m),\n",
    "    'Sus [MPa]': sus(A, m),\n",
    "    'Sys [MPa]': sys(A, m),\n",
    "    'Ses [MPa]': ses(A, m),\n",
    "    '𝜏min [MPa]': tmin(fmin, C),\n",
    "    'ηfs': nfs(A, m, C, d, fmin),\n",
    "    'Kb': kb(),\n",
    "    'σa [MPa]': sa(),\n",
    "    'σm [MPa]': sm(),\n",
    "    'σmin [MPa]': smin(),\n",
    "    'Se [MPa]': se(A, m),\n",
    "    'ηfb': nfb(),\n",
    "    '𝜏ba [MPa]': tba(),\n",
    "    '𝜏bm [MPa]': tbm(),\n",
    "    '𝜏bmin [MPa]': tbmin(),\n",
    "    'ηfsb': nfsb(),\n",
    "    'k [N/mm]': k(),\n",
    "    'Na [espiras]': na(),\n",
    "    'Nt [espiras]': nt(),\n",
    "    'Lb [mm]': lb(),\n",
    "    'Lf [mm]': lf(),\n",
    "    'ymax [mm]': ymax(),\n",
    "    'fn [Hz]': fn(),\n",
    "    'razao': r_rpm()\n",
    "\n",
    "}"
   ]
  },
  {
   "cell_type": "markdown",
   "metadata": {},
   "source": [
    "# Resultados"
   ]
  },
  {
   "cell_type": "code",
   "execution_count": 67,
   "metadata": {},
   "outputs": [
    {
     "data": {
      "text/html": [
       "<div>\n",
       "<style scoped>\n",
       "    .dataframe tbody tr th:only-of-type {\n",
       "        vertical-align: middle;\n",
       "    }\n",
       "\n",
       "    .dataframe tbody tr th {\n",
       "        vertical-align: top;\n",
       "    }\n",
       "\n",
       "    .dataframe thead th {\n",
       "        text-align: right;\n",
       "    }\n",
       "</style>\n",
       "<table border=\"1\" class=\"dataframe\">\n",
       "  <thead>\n",
       "    <tr style=\"text-align: right;\">\n",
       "      <th></th>\n",
       "      <th>0</th>\n",
       "    </tr>\n",
       "  </thead>\n",
       "  <tbody>\n",
       "    <tr>\n",
       "      <th>C</th>\n",
       "      <td>9.00</td>\n",
       "    </tr>\n",
       "    <tr>\n",
       "      <th>d [mm]</th>\n",
       "      <td>9.00</td>\n",
       "    </tr>\n",
       "    <tr>\n",
       "      <th>D [mm]</th>\n",
       "      <td>81.00</td>\n",
       "    </tr>\n",
       "    <tr>\n",
       "      <th>𝜏i [MPa]</th>\n",
       "      <td>26473.28</td>\n",
       "    </tr>\n",
       "    <tr>\n",
       "      <th>Ks</th>\n",
       "      <td>1.06</td>\n",
       "    </tr>\n",
       "    <tr>\n",
       "      <th>Fi [N]</th>\n",
       "      <td>611.05</td>\n",
       "    </tr>\n",
       "    <tr>\n",
       "      <th>Fa [N]</th>\n",
       "      <td>150.00</td>\n",
       "    </tr>\n",
       "    <tr>\n",
       "      <th>Fm [N]</th>\n",
       "      <td>850.00</td>\n",
       "    </tr>\n",
       "    <tr>\n",
       "      <th>Tm [N]</th>\n",
       "      <td>253.97</td>\n",
       "    </tr>\n",
       "    <tr>\n",
       "      <th>𝜏a [MPa]</th>\n",
       "      <td>49.32</td>\n",
       "    </tr>\n",
       "    <tr>\n",
       "      <th>Sut [MPa]</th>\n",
       "      <td>1354.64</td>\n",
       "    </tr>\n",
       "    <tr>\n",
       "      <th>Sus [MPa]</th>\n",
       "      <td>903.55</td>\n",
       "    </tr>\n",
       "    <tr>\n",
       "      <th>Sys [MPa]</th>\n",
       "      <td>609.59</td>\n",
       "    </tr>\n",
       "    <tr>\n",
       "      <th>Ses [MPa]</th>\n",
       "      <td>187.28</td>\n",
       "    </tr>\n",
       "    <tr>\n",
       "      <th>𝜏min [MPa]</th>\n",
       "      <td>228.07</td>\n",
       "    </tr>\n",
       "    <tr>\n",
       "      <th>ηfs</th>\n",
       "      <td>2.56</td>\n",
       "    </tr>\n",
       "    <tr>\n",
       "      <th>Kb</th>\n",
       "      <td>0.99</td>\n",
       "    </tr>\n",
       "    <tr>\n",
       "      <th>σa [MPa]</th>\n",
       "      <td>86.05</td>\n",
       "    </tr>\n",
       "    <tr>\n",
       "      <th>σm [MPa]</th>\n",
       "      <td>487.63</td>\n",
       "    </tr>\n",
       "    <tr>\n",
       "      <th>σmin [MPa]</th>\n",
       "      <td>401.58</td>\n",
       "    </tr>\n",
       "    <tr>\n",
       "      <th>Se [MPa]</th>\n",
       "      <td>279.53</td>\n",
       "    </tr>\n",
       "    <tr>\n",
       "      <th>ηfb</th>\n",
       "      <td>1.89</td>\n",
       "    </tr>\n",
       "    <tr>\n",
       "      <th>𝜏ba [MPa]</th>\n",
       "      <td>50.42</td>\n",
       "    </tr>\n",
       "    <tr>\n",
       "      <th>𝜏bm [MPa]</th>\n",
       "      <td>285.71</td>\n",
       "    </tr>\n",
       "    <tr>\n",
       "      <th>𝜏bmin [MPa]</th>\n",
       "      <td>235.30</td>\n",
       "    </tr>\n",
       "    <tr>\n",
       "      <th>ηfsb</th>\n",
       "      <td>2.56</td>\n",
       "    </tr>\n",
       "    <tr>\n",
       "      <th>k [N/mm]</th>\n",
       "      <td>12.00</td>\n",
       "    </tr>\n",
       "    <tr>\n",
       "      <th>Na [espiras]</th>\n",
       "      <td>10.00</td>\n",
       "    </tr>\n",
       "    <tr>\n",
       "      <th>Nt [espiras]</th>\n",
       "      <td>11.00</td>\n",
       "    </tr>\n",
       "    <tr>\n",
       "      <th>Lb [mm]</th>\n",
       "      <td>99.00</td>\n",
       "    </tr>\n",
       "    <tr>\n",
       "      <th>Lf [mm]</th>\n",
       "      <td>243.00</td>\n",
       "    </tr>\n",
       "    <tr>\n",
       "      <th>ymax [mm]</th>\n",
       "      <td>25.00</td>\n",
       "    </tr>\n",
       "    <tr>\n",
       "      <th>fn [Hz]</th>\n",
       "      <td>4198.89</td>\n",
       "    </tr>\n",
       "    <tr>\n",
       "      <th>razao</th>\n",
       "      <td>503.87</td>\n",
       "    </tr>\n",
       "  </tbody>\n",
       "</table>\n",
       "</div>"
      ],
      "text/plain": [
       "                     0\n",
       "C                 9.00\n",
       "d [mm]            9.00\n",
       "D [mm]           81.00\n",
       "𝜏i [MPa]      26473.28\n",
       "Ks                1.06\n",
       "Fi [N]          611.05\n",
       "Fa [N]          150.00\n",
       "Fm [N]          850.00\n",
       "Tm [N]          253.97\n",
       "𝜏a [MPa]         49.32\n",
       "Sut [MPa]      1354.64\n",
       "Sus [MPa]       903.55\n",
       "Sys [MPa]       609.59\n",
       "Ses [MPa]       187.28\n",
       "𝜏min [MPa]      228.07\n",
       "ηfs               2.56\n",
       "Kb                0.99\n",
       "σa [MPa]         86.05\n",
       "σm [MPa]        487.63\n",
       "σmin [MPa]      401.58\n",
       "Se [MPa]        279.53\n",
       "ηfb               1.89\n",
       "𝜏ba [MPa]        50.42\n",
       "𝜏bm [MPa]       285.71\n",
       "𝜏bmin [MPa]     235.30\n",
       "ηfsb              2.56\n",
       "k [N/mm]         12.00\n",
       "Na [espiras]     10.00\n",
       "Nt [espiras]     11.00\n",
       "Lb [mm]          99.00\n",
       "Lf [mm]         243.00\n",
       "ymax [mm]        25.00\n",
       "fn [Hz]        4198.89\n",
       "razao           503.87"
      ]
     },
     "metadata": {},
     "output_type": "display_data"
    }
   ],
   "source": [
    "df = pd.DataFrame(data).round(2)\n",
    "display(df.T)"
   ]
  },
  {
   "cell_type": "markdown",
   "metadata": {},
   "source": [
    "Para o problema proposto a solução encontrada foi supondo valores iniciais de indice de mola e o diâmetro da espira, assim, encontrando as dimensões faltantes dado o material escolhido, e com essas condições, chegamos a fatores de projeto para torção, flexão e fadiga de 2,56, 1,89 e 2,56 respectivamente. Na descrição do problema foi proposto um fator de projeto de 2, porém, chegamos a valores próximos utilizando as estimativas iniciais e, mais importante, valores superiores a 1, para a utilização do fator de projeto 2 seria necessario alterar as equações de coeficiente de segurança deixando explicito os valores desconhecidos, que no nosso caso foram supostos inicialmente, sendo assim, não havendo a necessidade de um chute inicial. "
   ]
  }
 ],
 "metadata": {
  "kernelspec": {
   "display_name": "Python 3.8.12 ('downgrade')",
   "language": "python",
   "name": "python3"
  },
  "language_info": {
   "codemirror_mode": {
    "name": "ipython",
    "version": 3
   },
   "file_extension": ".py",
   "mimetype": "text/x-python",
   "name": "python",
   "nbconvert_exporter": "python",
   "pygments_lexer": "ipython3",
   "version": "3.8.12"
  },
  "orig_nbformat": 4,
  "vscode": {
   "interpreter": {
    "hash": "ed3ebb04734f43b15442b522d77b67c46cdc9775d54bcf2473760b986ff7b5a6"
   }
  }
 },
 "nbformat": 4,
 "nbformat_minor": 2
}
