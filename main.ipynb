{
 "cells": [
  {
   "cell_type": "markdown",
   "metadata": {},
   "source": [
    "# Elementos de Máquinas 2 – Projeto de mola"
   ]
  },
  {
   "cell_type": "markdown",
   "metadata": {},
   "source": [
    "• O mesmo deve ser entregue com todo o memorial de cálculos e justificativas de dados adotados durante a execução do mesmo.                    \n",
    "• Os dados tabelados devem ter indicação de qual tabela foram retirados.                                                                          \n",
    "• Os ganchos da mola também devem constar no projeto. "
   ]
  },
  {
   "cell_type": "markdown",
   "metadata": {},
   "source": [
    "Projete uma mola de tração helicoidal de vida infinita com extremidades de laço completo \n",
    "para uma carga mínima de 700 N e máxima de 1000 N, com um estiramento de 25 mm. A \n",
    "mola é para um equipamento de serviço de alimento e, portanto, deve ser feita de aço \n",
    "inoxidável. A frequência forçante é de 500 rpm. Considere um fator de projeto para fadiga \n",
    "de nf = 2"
   ]
  },
  {
   "cell_type": "code",
   "execution_count": 2,
   "metadata": {},
   "outputs": [],
   "source": [
    "fmin = 700  #N\n",
    "fmax = 1000 #N\n",
    "y = 25      #mm \n",
    "n = 500     #rpm\n",
    "nf = 2"
   ]
  },
  {
   "cell_type": "markdown",
   "metadata": {},
   "source": [
    "C: Índice da mola                                                  \n",
    "D: Diâmetro maior                                                  \n",
    "d: Diâmetro menor                                                  \n",
    "\n",
    "$ 4 \\leq C \\leq 12 $\n",
    "\n",
    "$$ C = \\frac{D}{d} $$"
   ]
  },
  {
   "cell_type": "code",
   "execution_count": 1,
   "metadata": {},
   "outputs": [],
   "source": [
    "def C(D, d):\n",
    "    return D/d"
   ]
  },
  {
   "cell_type": "markdown",
   "metadata": {},
   "source": [
    "$$ F_{a} = \\frac{F_{max} - F_{min}}{2} $$\n",
    "$$ F_{m} = \\frac{F_{max} + F_{min}}{2} $$"
   ]
  },
  {
   "cell_type": "code",
   "execution_count": 4,
   "metadata": {},
   "outputs": [],
   "source": [
    "def fa():\n",
    "    return (fmax - fmin)/2\n",
    "\n",
    "def fm():\n",
    "    return (fmax + fmin)/2"
   ]
  },
  {
   "cell_type": "markdown",
   "metadata": {},
   "source": [
    "$$(K)_{A} = \\frac{4C_1^2 - C_{1} - 1}{4C_1 (C_1 - 1)} $$\n",
    "$$ C_{1} = 2 \\frac{r_{1}}{d} $$"
   ]
  },
  {
   "cell_type": "markdown",
   "metadata": {},
   "source": [
    "![](img/vistas_mola.png \"vistas mola\")     \n",
    "Fonte: BUDYNAS, Richard; NISBETT, J K. Elementos de Máquinas de Shigley. Grupo A, 2016.                                                                                         "
   ]
  },
  {
   "cell_type": "code",
   "execution_count": 5,
   "metadata": {},
   "outputs": [],
   "source": [
    "def ka(r1, d):\n",
    "    C1 = 2*r1/d\n",
    "    return (4*(C1**2) - C1 - 1)/(4*C1*(C1 - 1))"
   ]
  },
  {
   "cell_type": "markdown",
   "metadata": {},
   "source": [
    "$ \\sigma_{A} $ :  Tensão máxima de tração em A\n",
    "$$ \\sigma_{A} = F\\left [(K)_{A} \\frac{16D}{\\pi d^3} + \\frac{4}{\\pi d^2} \\right] $$"
   ]
  },
  {
   "cell_type": "code",
   "execution_count": 8,
   "metadata": {},
   "outputs": [],
   "source": [
    "from numpy import pi"
   ]
  },
  {
   "cell_type": "code",
   "execution_count": 9,
   "metadata": {},
   "outputs": [],
   "source": [
    "def s_A(F, r1, d, D):\n",
    "    return F*( ka(r1, d)*(16*D/(pi*d**3)) + (4/(pi*d**2)) ) "
   ]
  },
  {
   "cell_type": "markdown",
   "metadata": {},
   "source": [
    "$$ (K)_{B} = \\frac{4C_{2} - 1}{4C_{2} - 4} $$                       \n",
    "$$ C_{2} = 2 \\frac{r_{2}}{d} $$"
   ]
  },
  {
   "cell_type": "code",
   "execution_count": 7,
   "metadata": {},
   "outputs": [],
   "source": [
    "def kb(r2, d):\n",
    "    C2 = 2*r2/d\n",
    "    return (4*C2 - 1)/(4*C2 - 4)"
   ]
  },
  {
   "cell_type": "markdown",
   "metadata": {},
   "source": [
    "$ \\tau_{B} $: Tensão máxima torcional em B\n",
    "$$ \\tau_{B} = (K)_{B} \\frac{8FD}{\\pi d^3} $$"
   ]
  },
  {
   "cell_type": "code",
   "execution_count": 10,
   "metadata": {},
   "outputs": [],
   "source": [
    "def S_b(r2, d, F, D):\n",
    "    return kb(r2, d)*(8*F*D)/(pi*d**3)"
   ]
  },
  {
   "cell_type": "markdown",
   "metadata": {},
   "source": [
    "![](img\\ctes_material.png \"Constantes\")                                                                                       \n",
    "Fonte: Design Handbook, 1987, p.19."
   ]
  },
  {
   "cell_type": "code",
   "execution_count": 3,
   "metadata": {},
   "outputs": [
    {
     "name": "stderr",
     "output_type": "stream",
     "text": [
      "'[]' n�o � reconhecido como um comando interno\n",
      "ou externo, um programa oper�vel ou um arquivo em lotes.\n"
     ]
    }
   ],
   "source": []
  }
 ],
 "metadata": {
  "kernelspec": {
   "display_name": "Python 3.8.12 ('downgrade')",
   "language": "python",
   "name": "python3"
  },
  "language_info": {
   "codemirror_mode": {
    "name": "ipython",
    "version": 3
   },
   "file_extension": ".py",
   "mimetype": "text/x-python",
   "name": "python",
   "nbconvert_exporter": "python",
   "pygments_lexer": "ipython3",
   "version": "3.8.12"
  },
  "orig_nbformat": 4,
  "vscode": {
   "interpreter": {
    "hash": "ed3ebb04734f43b15442b522d77b67c46cdc9775d54bcf2473760b986ff7b5a6"
   }
  }
 },
 "nbformat": 4,
 "nbformat_minor": 2
}
